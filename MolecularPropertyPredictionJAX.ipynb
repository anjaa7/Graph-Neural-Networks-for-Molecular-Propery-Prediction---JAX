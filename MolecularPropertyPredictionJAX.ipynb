{
  "nbformat": 4,
  "nbformat_minor": 0,
  "metadata": {
    "colab": {
      "name": "Untitled12.ipynb",
      "provenance": [],
      "authorship_tag": "ABX9TyMLqi3m0PnNpsItYUPVbNGt",
      "include_colab_link": true
    },
    "kernelspec": {
      "name": "python3",
      "display_name": "Python 3"
    },
    "language_info": {
      "name": "python"
    }
  },
  "cells": [
    {
      "cell_type": "markdown",
      "metadata": {
        "id": "view-in-github",
        "colab_type": "text"
      },
      "source": [
        "<a href=\"https://colab.research.google.com/github/anjaa7/Graph-Neural-Networks-for-Molecular-Propery-Prediction---JAX/blob/main/MolecularPropertyPredictionJAX.ipynb\" target=\"_parent\"><img src=\"https://colab.research.google.com/assets/colab-badge.svg\" alt=\"Open In Colab\"/></a>"
      ]
    },
    {
      "cell_type": "code",
      "metadata": {
        "id": "3H_UR-bvMFrz"
      },
      "source": [
        "  \n",
        "import sys\n",
        "import numpy as np\n",
        "import torch\n",
        "import torch.nn as nn\n",
        "import torch.nn.functional as F\n"
      ],
      "execution_count": null,
      "outputs": []
    },
    {
      "cell_type": "code",
      "metadata": {
        "id": "pHM3ZTeYNOOd"
      },
      "source": [
        "\n",
        "class MPLayer(nn.Module):\n",
        "    def __init__(self, in_feats, out_feats):\n",
        "        super().__init__()\n",
        "        \n",
        "        self.transform = nn.Linear(in_feats, out_feats)#kreira sloj feed forward mreze sa in_feats ulaza, out_feats izlaza\n",
        "        self.msg_layer = nn.Linear(in_feats, in_feats) \n",
        "\n",
        "    def forward(self, g, node_feats):\t\n",
        "        # Reassign Data\n",
        "        g.ndata['x'] = node_feats\n",
        "        \n",
        "        # Message Passing\n",
        "        g.send(g.edges(), message_func=self.message)\n",
        "        g.recv(g.nodes(), reduce_func=self.reduce)\n",
        "\n",
        "        # Compute New Features with Transformation Layer\n",
        "        new_feats = self.transform(g.ndata.pop('x'))\n",
        "\n",
        "        return new_feats\n",
        "        \n",
        "    def message(self, edges):\n",
        "        msg = torch.relu(self.msg_layer(edges.src['x']))\n",
        "\n",
        "        return {'message': msg}\n",
        "\n",
        "    def reduce(self, nodes):\n",
        "        msg = nodes.mailbox['message']\n",
        "        sum_msg = torch.sum(msg, dim=1)\n",
        "\n",
        "        return {'x': sum_msg} \n"
      ],
      "execution_count": null,
      "outputs": []
    },
    {
      "cell_type": "code",
      "metadata": {
        "id": "sCPtZnBaPvaZ"
      },
      "source": [
        "class Model(nn.Module):\n",
        "    def __init__(self):\n",
        "        super().__init__()\n",
        "\n",
        "        # Initialize hyperparameters\n",
        "        self.raw_features = 119\n",
        "        self.num_classes = 2\n",
        "\n",
        "        self.batch_size = 10\n",
        "        self.dense_size = 300\n",
        "\n",
        "        # Initialize trainable layers\n",
        "        # lifting -> message passing * 3 -> readout\n",
        "        self.lift = nn.Linear(self.raw_features,self.dense_size)\n",
        "        self.mpl1 = MPLayer(self.dense_size,self.dense_size)\n",
        "        self.mpl2 = MPLayer(self.dense_size,self.dense_size)\n",
        "        self.mpl3 = MPLayer(self.dense_size,self.dense_size)\n",
        "        self.read = nn.Linear(self.dense_size, self.num_classes)\n",
        "\n",
        "        self.optimizer = torch.optim.Adam(self.parameters(), lr=5e-4)\n",
        "\n",
        "    def forward(self, g):\t\t\n",
        "        out = self.lift(g.ndata.pop('x').to('cuda'))\n",
        "        out = torch.relu(self.mpl1(g, out))\n",
        "        out = torch.relu(self.mpl2(g, out))\n",
        "        out = torch.relu(self.mpl3(g, out))\n",
        "        out = self.readout(g, out)\n",
        "        return out\n",
        "\n",
        "    def readout(self, g, node_feats):\n",
        "        g.ndata['x'] = self.read(node_feats)\n",
        "        logits = dgl.sum_nodes(g, 'x')\n",
        "\n",
        "        return logits\n",
        "\n",
        "    def accuracy_function(self, logits, labels):\n",
        "        preds = torch.argmax(logits, dim=1)\t\n",
        "        acc = torch.sum(torch.eq(preds, labels)).item() / preds.nelement()\n",
        "        \n",
        "        return acc"
      ],
      "execution_count": null,
      "outputs": []
    },
    {
      "cell_type": "code",
      "metadata": {
        "id": "o96Lj9CfR-eg"
      },
      "source": [
        "def train(model, train_data):\n",
        "\tn = model.batch_size\n",
        "\tnum_batches = len(train_data) // n\n",
        "\n",
        "\tloss_func = nn.CrossEntropyLoss()\n",
        "\n",
        "\tfor i in tqdm(range(num_batches)):\n",
        "\t\tstart, end = i*n, (i+1)*n\n",
        "\t\tmolecules = train_data[start:end]\n",
        "\n",
        "\t\t### Batching Graphs and Labels\n",
        "\t\tin_, out_ = [], []\n",
        "\t\tfor mol in molecules:\n",
        "\t\t\tin_.append(build_graph(mol))\n",
        "\t\t\tout_.append(mol.label.item())\n",
        "\t\tinputs, labels = dgl.batch(in_), torch.tensor(out_, dtype=torch.long)\n",
        "\n",
        "\t\t### Forward Pass and Loss\n",
        "\t\tlogits = model.forward(inputs)\n",
        "\t\tloss = loss_func(logits.cpu(), labels.cpu())\n",
        "\n",
        "\t\t### Back Propagation\n",
        "\t\tmodel.optimizer.zero_grad()\n",
        "\t\tloss.backward()\n",
        "\t\tmodel.optimizer.step()"
      ],
      "execution_count": null,
      "outputs": []
    },
    {
      "cell_type": "code",
      "metadata": {
        "id": "RjAKxJXBROg4"
      },
      "source": [
        "def test(model, test_data):\n",
        "\tn = model.batch_size\n",
        "\tnum_batches = len(test_data) // n\n",
        "\n",
        "\tacc = 0\n",
        "\tfor i in tqdm(range(num_batches)):\n",
        "\t\tstart, end = i*n, (i+1)*n\n",
        "\t\tmolecules = test_data[start:end]\n",
        "\n",
        "\t\t### Batching Graphs and Labels\n",
        "\t\tin_, out_ = [], []\n",
        "\t\tfor mol in molecules:\n",
        "\t\t\tin_.append(build_graph(mol))\n",
        "\t\t\tout_.append(mol.label.item())\n",
        "\t\tinputs, labels = dgl.batch(in_), torch.tensor(out_, dtype=torch.long)\n",
        "\n",
        "\t\t### Forward Pass and Accuracy\n",
        "\t\tlogits = model.forward(inputs)\n",
        "\t\tacc += model.accuracy_function(logits.cpu(), labels) * n\n",
        "\n",
        "\treturn acc / (n * num_batches)"
      ],
      "execution_count": null,
      "outputs": []
    },
    {
      "cell_type": "code",
      "metadata": {
        "id": "n1i5JRTWQwbd"
      },
      "source": [
        "def main():\n",
        "\t\n",
        "\t\n",
        "\n",
        "\tmodel = gnn.Model()\n",
        "\t\n",
        "\tnum_epochs = 15\n",
        "\tfor epoch in range(num_epochs):\n",
        "\t\ttrain(model, train_data)\n",
        "\t\tacc = test(model, test_data)\n",
        "\t\tprint(\"Test Accuracy (Epoch: %d / %d) : %.3f\" % (epoch+1, num_epochs, acc))\n"
      ],
      "execution_count": null,
      "outputs": []
    },
    {
      "cell_type": "code",
      "metadata": {
        "colab": {
          "base_uri": "https://localhost:8080/",
          "height": 305
        },
        "id": "Ul9NtwMOQ-hb",
        "outputId": "1d0d884a-6532-4571-b7ee-c81c8f2ff4f2"
      },
      "source": [
        "if __name__ == '__main__':\n",
        "\tmain()"
      ],
      "execution_count": null,
      "outputs": [
        {
          "output_type": "error",
          "ename": "NameError",
          "evalue": "ignored",
          "traceback": [
            "\u001b[0;31m---------------------------------------------------------------------------\u001b[0m",
            "\u001b[0;31mNameError\u001b[0m                                 Traceback (most recent call last)",
            "\u001b[0;32m<ipython-input-15-0f1ead28e8c2>\u001b[0m in \u001b[0;36m<module>\u001b[0;34m()\u001b[0m\n\u001b[1;32m      1\u001b[0m \u001b[0;32mif\u001b[0m \u001b[0m__name__\u001b[0m \u001b[0;34m==\u001b[0m \u001b[0;34m'__main__'\u001b[0m\u001b[0;34m:\u001b[0m\u001b[0;34m\u001b[0m\u001b[0;34m\u001b[0m\u001b[0m\n\u001b[0;32m----> 2\u001b[0;31m         \u001b[0mmain\u001b[0m\u001b[0;34m(\u001b[0m\u001b[0;34m)\u001b[0m\u001b[0;34m\u001b[0m\u001b[0;34m\u001b[0m\u001b[0m\n\u001b[0m",
            "\u001b[0;32m<ipython-input-14-e04afc9dfa42>\u001b[0m in \u001b[0;36mmain\u001b[0;34m()\u001b[0m\n\u001b[1;32m      3\u001b[0m \u001b[0;34m\u001b[0m\u001b[0m\n\u001b[1;32m      4\u001b[0m \u001b[0;34m\u001b[0m\u001b[0m\n\u001b[0;32m----> 5\u001b[0;31m         \u001b[0mmodel\u001b[0m \u001b[0;34m=\u001b[0m \u001b[0mgnn\u001b[0m\u001b[0;34m.\u001b[0m\u001b[0mModel\u001b[0m\u001b[0;34m(\u001b[0m\u001b[0;34m)\u001b[0m\u001b[0;34m\u001b[0m\u001b[0;34m\u001b[0m\u001b[0m\n\u001b[0m\u001b[1;32m      6\u001b[0m \u001b[0;34m\u001b[0m\u001b[0m\n\u001b[1;32m      7\u001b[0m         \u001b[0mnum_epochs\u001b[0m \u001b[0;34m=\u001b[0m \u001b[0;36m15\u001b[0m\u001b[0;34m\u001b[0m\u001b[0;34m\u001b[0m\u001b[0m\n",
            "\u001b[0;31mNameError\u001b[0m: name 'gnn' is not defined"
          ]
        }
      ]
    }
  ]
}